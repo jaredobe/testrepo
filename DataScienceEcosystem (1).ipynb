{
 "cells": [
  {
   "cell_type": "markdown",
   "id": "9c7284a2-7d7f-4301-a130-6f2113d43168",
   "metadata": {},
   "source": [
    "# DataScienceEcosystem.ipynb"
   ]
  },
  {
   "cell_type": "markdown",
   "id": "f3046a54-f8a1-4ec8-90f6-ed6d36382af3",
   "metadata": {},
   "source": [
    "In this notebook, Data Science Tools and Ecosystem are summarized."
   ]
  },
  {
   "cell_type": "markdown",
   "id": "1946c041-7caa-4dc9-88a4-1a5093db96e9",
   "metadata": {},
   "source": [
    "**Objectives:** \n",
    "- Jupyter\n",
    "- Python\n",
    "- SQL\n",
    "- Markdown\n",
    "- Github\n"
   ]
  },
  {
   "cell_type": "markdown",
   "id": "04238c61-9c4b-4bfd-b9f4-3683f11bfb22",
   "metadata": {},
   "source": [
    "Some of the popular languages that Data Scientists use are:\n",
    "1. Python\n",
    "2. R\n",
    "3. c++"
   ]
  },
  {
   "cell_type": "markdown",
   "id": "ea343825-27d3-4ad9-8bdf-db829f247ea0",
   "metadata": {},
   "source": [
    "Some of the commonly used libraries used by Data Scientists include:\n",
    "1. Numpy\n",
    "2. Pandas\n",
    "3. TensorFlow"
   ]
  },
  {
   "cell_type": "markdown",
   "id": "c7463705-b362-4f34-b18d-c3a423f84f8a",
   "metadata": {},
   "source": [
    "| Data Science Tools |\n",
    "| ------- |\n",
    "| Rstudio |\n",
    "| Apache Spark  |\n",
    "| TensorFlow |"
   ]
  },
  {
   "cell_type": "markdown",
   "id": "d8ffbd57-4d2f-4aab-aa51-48b36262dbd8",
   "metadata": {},
   "source": [
    "### Below are a few examples of evaluating arithmetic expressions in Python."
   ]
  },
  {
   "cell_type": "code",
   "execution_count": 28,
   "id": "a4d3132a-50dd-474c-b93e-f39782ad4565",
   "metadata": {},
   "outputs": [
    {
     "data": {
      "text/plain": [
       "17.0"
      ]
     },
     "execution_count": 28,
     "metadata": {},
     "output_type": "execute_result"
    }
   ],
   "source": [
    "(3*4)+5. # This a simple arithmetic expression to mutiply then add integers "
   ]
  },
  {
   "cell_type": "code",
   "execution_count": 23,
   "id": "35f23d11-e82e-47f0-9acd-1a783d46ee80",
   "metadata": {},
   "outputs": [
    {
     "data": {
      "text/plain": [
       "3.3333333333333335"
      ]
     },
     "execution_count": 23,
     "metadata": {},
     "output_type": "execute_result"
    }
   ],
   "source": [
    "200/60. # This will convert 200 minutes to hours by diving by 60."
   ]
  },
  {
   "cell_type": "markdown",
   "id": "7bb9fac2-ebca-4724-a10d-0ee9dd486f77",
   "metadata": {},
   "source": [
    "## Author\n",
    "Jared Oberg"
   ]
  },
  {
   "cell_type": "code",
   "execution_count": null,
   "id": "6307330b-ef4b-439a-bd02-700c1d579587",
   "metadata": {},
   "outputs": [],
   "source": []
  },
  {
   "cell_type": "code",
   "execution_count": null,
   "id": "9939b9b5-0333-48ed-b6f9-559b338a3cb0",
   "metadata": {},
   "outputs": [],
   "source": []
  }
 ],
 "metadata": {
  "kernelspec": {
   "display_name": "Python 3 (ipykernel)",
   "language": "python",
   "name": "python3"
  },
  "language_info": {
   "codemirror_mode": {
    "name": "ipython",
    "version": 3
   },
   "file_extension": ".py",
   "mimetype": "text/x-python",
   "name": "python",
   "nbconvert_exporter": "python",
   "pygments_lexer": "ipython3",
   "version": "3.12.7"
  }
 },
 "nbformat": 4,
 "nbformat_minor": 5
}
